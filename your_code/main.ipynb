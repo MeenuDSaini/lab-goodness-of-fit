{
 "cells": [
  {
   "cell_type": "markdown",
   "metadata": {},
   "source": [
    "## Question 1\n",
    "The following table indicates the number of 6-point scores in an American rugby match in the 1979 season.\n",
    "\n",
    "![](table1.png)\n",
    "\n",
    "Based on these results, we create a Poisson distribution with the sample mean parameter  = 2.435. Is there any reason to believe that at a .05 level the number of scores is a Poisson variable?\n",
    "Check [here](https://www.geeksforgeeks.org/how-to-create-a-poisson-probability-mass-function-plot-in-python/) how to create a poisson distribution and how to calculate the expected observations, using the probability mass function (pmf). \n",
    "A Poisson distribution is a discrete probability distribution. It gives the probability of an event happening a certain number of times (k) within a given interval of time or space. The Poisson distribution has only one parameter, λ (lambda), which is the mean number of events."
   ]
  },
  {
   "cell_type": "markdown",
   "metadata": {},
   "source": []
  },
  {
   "cell_type": "code",
   "execution_count": 1,
   "metadata": {},
   "outputs": [
    {
     "name": "stdout",
     "output_type": "stream",
     "text": [
      "k = 0: PMF = 0.08759774704805763\n",
      "k = 1: PMF = 0.21330051406202033\n",
      "k = 2: PMF = 0.2596933758705097\n",
      "k = 3: PMF = 0.21078445674823038\n",
      "k = 4: PMF = 0.12831503804548525\n",
      "k = 5: PMF = 0.06248942352815135\n",
      "k = 6: PMF = 0.025360291048508066\n",
      "k = 7: PMF = 0.008821758386159596\n",
      "k = 8: PMF = 0.0026851227087873243\n",
      "k = 9: PMF = 0.0007264748662107932\n"
     ]
    }
   ],
   "source": [
    "# Null Hypotheses(HO): The number of 6-point scores in an American rugby match in the 1979 season follow poisson distribution with mean parameter =2.435\n",
    "\n",
    "# Alternative Hypotheses (H1): The number of 6-point scores in an American rugby match in the 1979 season does not follow poisson distribution with mean parameter =2.435\n",
    "\n",
    "\n",
    "from scipy.stats import poisson\n",
    "\n",
    "mean_parameter = 2.435\n",
    "k_values = range(0, 10)  \n",
    "\n",
    "pmf_values = poisson.pmf(k_values, mu=mean_parameter, loc=0)\n",
    "\n",
    "\n",
    "for k, pmf in zip(k_values, pmf_values):\n",
    "    print(f'k = {k}: PMF = {pmf}')"
   ]
  },
  {
   "cell_type": "code",
   "execution_count": 5,
   "metadata": {},
   "outputs": [
    {
     "data": {
      "text/plain": [
       "array([ 39.24379068,  95.5586303 , 116.34263239,  94.43143662,\n",
       "        57.48513704,  27.99526174,  11.36141039,   3.95214776,\n",
       "         1.20293497,   0.32546074])"
      ]
     },
     "execution_count": 5,
     "metadata": {},
     "output_type": "execute_result"
    }
   ],
   "source": [
    "#calculate expected frequency \n",
    "Total_number_of_observations = 448\n",
    "E = pmf_values * Total_number_of_observations\n",
    "E"
   ]
  },
  {
   "cell_type": "code",
   "execution_count": 14,
   "metadata": {},
   "outputs": [
    {
     "data": {
      "text/plain": [
       "5.522611487723598"
      ]
     },
     "execution_count": 14,
     "metadata": {},
     "output_type": "execute_result"
    }
   ],
   "source": [
    "# Compute statistic for chi2\n",
    "import scipy.stats as stats\n",
    "import numpy as np\n",
    "O = np.array([35,99,104,110,62,25,10,3])\n",
    "E = np.array([39.24, 95.56, 116.34, 94.43, 57.49, 27.99, 11.36, 3.95])\n",
    "statistic = (np.square(O-E) / E).sum()\n",
    "statistic"
   ]
  },
  {
   "cell_type": "code",
   "execution_count": 15,
   "metadata": {},
   "outputs": [
    {
     "data": {
      "text/plain": [
       "0.5964579160077558"
      ]
     },
     "execution_count": 15,
     "metadata": {},
     "output_type": "execute_result"
    }
   ],
   "source": [
    "# Calculate p-value\n",
    "dof = 7 #number of degrees of freedom (number of categories - 1),(i.e. 8-1= 7)\n",
    "stats.chi2.sf(abs(statistic), dof)"
   ]
  },
  {
   "cell_type": "markdown",
   "metadata": {},
   "source": [
    "Conclusion: As p-value is 0.59 which is higher than 0.05 significance level. Therefore we can not reject Null hypotheses. The number of 6-point scores in an American rugby match in the 1979 season follow poisson distribution with mean parameter =2.435"
   ]
  },
  {
   "cell_type": "code",
   "execution_count": 16,
   "metadata": {},
   "outputs": [
    {
     "data": {
      "image/png": "[encoded data removed]",
      "text/plain": [
       "<Figure size 640x480 with 1 Axes>"
      ]
     },
     "metadata": {},
     "output_type": "display_data"
    }
   ],
   "source": [
    "# importing poisson from scipy\n",
    "from scipy.stats import poisson\n",
    " \n",
    "# importing numpy as np\n",
    "import numpy as np\n",
    " \n",
    "# importing matplotlib as plt\n",
    "import matplotlib.pyplot as plt\n",
    " \n",
    " \n",
    "# creating a numpy array for x-axis\n",
    "# using step size as 1\n",
    "x = np.arange(0, 10, 1)\n",
    " \n",
    "# poisson distribution data for y-axis\n",
    "y = poisson.pmf(x, mu=2.435)\n",
    " \n",
    " \n",
    "# plotting the graph\n",
    "plt.plot(x, y)\n",
    " \n",
    "# showing the graph\n",
    "plt.show()"
   ]
  },
  {
   "cell_type": "markdown",
   "metadata": {},
   "source": [
    "## Question 2\n",
    "A researcher gathers information about the patterns of Physical Activity of children in the fifth grade of primary school of a public school. He defines three categories of physical activity (Low, Medium, High). He also inquires about the regular consumption of sugary drinks at school, and defines two categories (Yes = consumed, No = not consumed). We would like to evaluate if there is an association between patterns of physical activity and the consumption of sugary drinks for the children of this school, at a level of 5% significance. The results are in the following table: \n",
    "\n",
    "![](table4.png)"
   ]
  },
  {
   "cell_type": "code",
   "execution_count": 17,
   "metadata": {},
   "outputs": [],
   "source": [
    "#your answer here\n",
    "from PIL import Image\n",
    "\n",
    "# Open a PNG image file\n",
    "Physical_activity_table = Image.open(\"table4.png\")\n",
    "\n",
    "         "
   ]
  },
  {
   "cell_type": "markdown",
   "metadata": {},
   "source": [
    "Null hypothesis ( H0 ): There is no association between patterns of physical activities the consumption of sugary drinks for the children of this school.\n",
    "Alternative hypothesis ( H1 ): There is association between patterns of physical activities the consumption of sugary drinks for the children of this school."
   ]
  },
  {
   "cell_type": "code",
   "execution_count": 18,
   "metadata": {},
   "outputs": [
    {
     "data": {
      "text/plain": [
       "Chi2ContingencyResult(statistic=2317803.674010227, pvalue=0.0, dof=845844, expected_freq=array([[[200.49077549, 238.26741794, 226.37124688, 258.17876098],\n",
       "        [200.49077549, 238.26741794, 226.37124688, 258.17876098],\n",
       "        [200.49077549, 238.26741794, 226.37124688, 258.17876098],\n",
       "        ...,\n",
       "        [197.28957733, 234.4630473 , 222.75682015, 254.0564697 ],\n",
       "        [197.28957733, 234.4630473 , 222.75682015, 254.0564697 ],\n",
       "        [223.0897101 , 265.12446303, 251.88737845, 287.28017436]],\n",
       "\n",
       "       [[200.49077549, 238.26741794, 226.37124688, 258.17876098],\n",
       "        [200.49077549, 238.26741794, 226.37124688, 258.17876098],\n",
       "        [200.49077549, 238.26741794, 226.37124688, 258.17876098],\n",
       "        ...,\n",
       "        [197.28957733, 234.4630473 , 222.75682015, 254.0564697 ],\n",
       "        [197.28957733, 234.4630473 , 222.75682015, 254.0564697 ],\n",
       "        [223.0897101 , 265.12446303, 251.88737845, 287.28017436]],\n",
       "\n",
       "       [[200.49077549, 238.26741794, 226.37124688, 258.17876098],\n",
       "        [200.49077549, 238.26741794, 226.37124688, 258.17876098],\n",
       "        [200.49077549, 238.26741794, 226.37124688, 258.17876098],\n",
       "        ...,\n",
       "        [197.28957733, 234.4630473 , 222.75682015, 254.0564697 ],\n",
       "        [197.28957733, 234.4630473 , 222.75682015, 254.0564697 ],\n",
       "        [223.0897101 , 265.12446303, 251.88737845, 287.28017436]],\n",
       "\n",
       "       ...,\n",
       "\n",
       "       [[209.68538034, 249.19447805, 236.75274278, 270.018965  ],\n",
       "        [209.68538034, 249.19447805, 236.75274278, 270.018965  ],\n",
       "        [209.68538034, 249.19447805, 236.75274278, 270.018965  ],\n",
       "        ...,\n",
       "        [206.33737367, 245.21563712, 232.97255668, 265.70762344],\n",
       "        [206.33737367, 245.21563712, 232.97255668, 265.70762344],\n",
       "        [233.32071312, 277.28320035, 263.4390566 , 300.45498341]],\n",
       "\n",
       "       [[222.47002877, 264.38802082, 251.18770519, 286.48218973],\n",
       "        [222.47002877, 264.38802082, 251.18770519, 286.48218973],\n",
       "        [222.47002877, 264.38802082, 251.18770519, 286.48218973],\n",
       "        ...,\n",
       "        [218.91789205, 260.16658748, 247.17703878, 281.90798298],\n",
       "        [218.91789205, 260.16658748, 247.17703878, 281.90798298],\n",
       "        [247.54642254, 294.18933003, 279.50110021, 318.77391117]],\n",
       "\n",
       "       [[222.63658981, 264.58596543, 251.37576686, 286.69667602],\n",
       "        [222.63658981, 264.58596543, 251.37576686, 286.69667602],\n",
       "        [222.63658981, 264.58596543, 251.37576686, 286.69667602],\n",
       "        ...,\n",
       "        [219.08179364, 260.36137154, 247.3620977 , 282.11904461],\n",
       "        [219.08179364, 260.36137154, 247.3620977 , 282.11904461],\n",
       "        [247.73175802, 294.40958658, 279.71035983, 319.01257394]]]))"
      ]
     },
     "execution_count": 18,
     "metadata": {},
     "output_type": "execute_result"
    }
   ],
   "source": [
    "# Contingency tables and independence of effects\n",
    "stats.chi2_contingency(np.array(Physical_activity_table))"
   ]
  },
  {
   "cell_type": "code",
   "execution_count": 19,
   "metadata": {},
   "outputs": [
    {
     "data": {
      "text/plain": [
       "2"
      ]
     },
     "execution_count": 19,
     "metadata": {},
     "output_type": "execute_result"
    }
   ],
   "source": [
    "categories_of_physical_activity = ['Low','Medium','High']\n",
    "atrributes = ['Yes = consumed','No = not consumed']\n",
    "dof=(len(categories_of_physical_activity) - 1)*(len(atrributes)-1)\n",
    "dof"
   ]
  },
  {
   "cell_type": "markdown",
   "metadata": {},
   "source": [
    "Conclusion: As p-value is 0, therefore we can reject null hypotheses. We can say there is association between patterns of physical activities the consumption of sugary drinks for the children of this school."
   ]
  }
 ],
 "metadata": {
  "kernelspec": {
   "display_name": "Python 3 (ipykernel)",
   "language": "python",
   "name": "python3"
  },
  "language_info": {
   "codemirror_mode": {
    "name": "ipython",
    "version": 3
   },
   "file_extension": ".py",
   "mimetype": "text/x-python",
   "name": "python",
   "nbconvert_exporter": "python",
   "pygments_lexer": "ipython3",
   "version": "3.11.3"
  }
 },
 "nbformat": 4,
 "nbformat_minor": 2
}
